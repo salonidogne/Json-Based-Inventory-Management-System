{
 "cells": [
  {
   "cell_type": "code",
   "execution_count": 61,
   "id": "2db95e65",
   "metadata": {},
   "outputs": [],
   "source": [
    "import json\n",
    "fd = open(\"data.json\",'r')\n",
    "r = fd.read()\n",
    "fd.close()\n",
    "\n",
    "record = json.loads(r)"
   ]
  },
  {
   "cell_type": "code",
   "execution_count": 62,
   "id": "b81fac5b",
   "metadata": {},
   "outputs": [
    {
     "data": {
      "text/plain": [
       "{'1001': {'name': 'Cake', 'pr': 200, 'qn': 70, 'e_dt': 'Jan2021', 'wg': 200},\n",
       " '1002': {'name': 'Milk', 'pr': 80, 'qn': 100, 'e_dt': 'Jan2021', 'wg': 500},\n",
       " '1003': {'name': 'Drink', 'pr': 50, 'qn': 100, 'e_dt': 'Jan2021', 'wg': 200},\n",
       " '1004': {'name': 'Candy', 'pr': 20, 'qn': 100, 'e_dt': 'Jan2021', 'wg': 200},\n",
       " '1005': {'name': 'Car', 'pr': 5000, 'qn': 100, 'e_dt': 'Jan2021', 'wg': 200},\n",
       " '1006': {'name': 'Toy', 'pr': 500, 'qn': 100, 'e_dt': 'Jan2021', 'wg': 200},\n",
       " '1007': {'name': 'Mic', 'pr': 1500, 'qn': 50, 'e_dt': 'Jan2021', 'wg': 200},\n",
       " '1008': {'name': 'Case', 'pr': 599, 'qn': 50, 'e_dt': 'Jan2021', 'wg': 200},\n",
       " '1009': {'name': 'board', 'pr': 1999, 'qn': 10, 'e_dt': 'Jan2021', 'wg': 200},\n",
       " '1010': {'name': 'Camera', 'pr': 999, 'qn': 90, 'e_dt': 'Jan2021', 'wg': 200},\n",
       " '1011': {'name': 'Dairy', 'pr': 100, 'qn': 100, 'e_dt': 'Jan2021', 'wg': 200},\n",
       " '1012': {'name': 'Book', 'pr': 100, 'qn': 100, 'e_dt': 'Jan2021', 'wg': 200},\n",
       " '1013': {'name': 'Bag', 'pr': 500, 'qn': 100, 'e_dt': 'Jan2021', 'wg': 200},\n",
       " '1014': {'name': 'Pen', 'pr': 20, 'qn': 100, 'e_dt': 'Jan2021', 'wg': 200},\n",
       " '1015': {'name': 'Paint', 'pr': 200, 'qn': 100, 'e_dt': 'Jan2021', 'wg': 200},\n",
       " '1016': {'name': 'Brush', 'pr': 50, 'qn': 100, 'e_dt': 'Jan2021', 'wg': 200},\n",
       " '1017': {'name': 'Lock', 'pr': 1500, 'qn': 100, 'e_dt': 'Jan2021', 'wg': 200},\n",
       " '1018': {'name': 'Key', 'pr': 599, 'qn': 10, 'e_dt': 'Jan2021', 'wg': 200},\n",
       " '1019': {'name': 'Cashew', 'pr': 199, 'qn': 10, 'e_dt': 'Jan2021', 'wg': 200},\n",
       " '1020': {'name': 'Nuts', 'pr': 1999, 'qn': 10, 'e_dt': 'Jan2021', 'wg': 200},\n",
       " '1021': {'name': 'Ball ', 'pr': 100, 'qn': 100, 'e_dt': 'Jan2021', 'wg': 200},\n",
       " '1022': {'name': 'Novel', 'pr': 500, 'qn': 100, 'e_dt': 'Jan2021', 'wg': 200},\n",
       " '1023': {'name': 'Sweets', 'pr': 500, 'qn': 50, 'e_dt': 'Jan2021', 'wg': 200},\n",
       " '1024': {'name': 'Deo', 'pr': 200, 'qn': 100, 'e_dt': 'Jan2021', 'wg': 200},\n",
       " '1025': {'name': 'Pin', 'pr': 2000, 'qn': 100, 'e_dt': 'Jan2021', 'wg': 200},\n",
       " '1026': {'name': 'Chair', 'pr': 500, 'qn': 100, 'e_dt': 'Jan2021', 'wg': 200},\n",
       " '1027': {'name': 'Oil', 'pr': 150, 'qn': 100, 'e_dt': 'Jan2021', 'wg': 200},\n",
       " '1028': {'name': 'Basket', 'pr': 99, 'qn': 100, 'e_dt': 'Jan2021', 'wg': 200},\n",
       " '1029': {'name': 'Mask', 'pr': 100, 'qn': 100, 'e_dt': 'Jan2021', 'wg': 200},\n",
       " '1030': {'name': 'Rope', 'pr': 199, 'qn': 90, 'e_dt': 'Jan2021', 'wg': 200},\n",
       " '2032': {'name': 'wer', 'pr': 123, 'qn': 12, 'e_dt': 'Jan2021', 'wg': 200},\n",
       " '1031': {'name': 'Bottle', 'pr': 50, 'qn': 30, 'e_dt': 'Jan2021', 'wg': 200}}"
      ]
     },
     "execution_count": 62,
     "metadata": {},
     "output_type": "execute_result"
    }
   ],
   "source": [
    "record"
   ]
  },
  {
   "cell_type": "code",
   "execution_count": 65,
   "id": "d53b7a77",
   "metadata": {},
   "outputs": [
    {
     "name": "stdout",
     "output_type": "stream",
     "text": [
      "Enter product id:1032\n",
      "Enter name:egg\n",
      "Enter price:50\n",
      "Enter quantity:10\n",
      "Enter expiry date:Dec2021\n",
      "Enter product Weight:100\n"
     ]
    }
   ],
   "source": [
    "prod_id = str(input(\"Enter product id:\"))\n",
    "name = str(input(\"Enter name:\"))\n",
    "pr = int(input(\"Enter price:\"))\n",
    "qn = int(input(\"Enter quantity:\"))\n",
    "e_dt = str(input(\"Enter expiry date:\"))\n",
    "wg = str(input(\"Enter product Weight:\"))\n",
    "\n",
    "\n",
    "record[prod_id] = {'name': name, 'pr': pr, 'qn': qn, 'e_dt': e_dt, 'wg': wg }\n",
    "\n",
    "js = json.dumps(record)\n",
    "\n",
    "fd = open(\"data.json\",'w')\n",
    "fd.write(js)\n",
    "fd.close()"
   ]
  },
  {
   "cell_type": "code",
   "execution_count": 66,
   "id": "cb8aa444",
   "metadata": {},
   "outputs": [
    {
     "data": {
      "text/plain": [
       "{'1001': {'name': 'Cake', 'pr': 200, 'qn': 70, 'e_dt': 'Jan2021', 'wg': 200},\n",
       " '1002': {'name': 'Milk', 'pr': 80, 'qn': 100, 'e_dt': 'Jan2021', 'wg': 500},\n",
       " '1003': {'name': 'Drink', 'pr': 50, 'qn': 100, 'e_dt': 'Jan2021', 'wg': 200},\n",
       " '1004': {'name': 'Candy', 'pr': 20, 'qn': 100, 'e_dt': 'Jan2021', 'wg': 200},\n",
       " '1005': {'name': 'Car', 'pr': 5000, 'qn': 100, 'e_dt': 'Jan2021', 'wg': 200},\n",
       " '1006': {'name': 'Toy', 'pr': 500, 'qn': 100, 'e_dt': 'Jan2021', 'wg': 200},\n",
       " '1007': {'name': 'Mic', 'pr': 1500, 'qn': 50, 'e_dt': 'Jan2021', 'wg': 200},\n",
       " '1008': {'name': 'Case', 'pr': 599, 'qn': 50, 'e_dt': 'Jan2021', 'wg': 200},\n",
       " '1009': {'name': 'board', 'pr': 1999, 'qn': 10, 'e_dt': 'Jan2021', 'wg': 200},\n",
       " '1010': {'name': 'Camera', 'pr': 999, 'qn': 90, 'e_dt': 'Jan2021', 'wg': 200},\n",
       " '1011': {'name': 'Dairy', 'pr': 100, 'qn': 100, 'e_dt': 'Jan2021', 'wg': 200},\n",
       " '1012': {'name': 'Book', 'pr': 100, 'qn': 100, 'e_dt': 'Jan2021', 'wg': 200},\n",
       " '1013': {'name': 'Bag', 'pr': 500, 'qn': 100, 'e_dt': 'Jan2021', 'wg': 200},\n",
       " '1014': {'name': 'Pen', 'pr': 20, 'qn': 100, 'e_dt': 'Jan2021', 'wg': 200},\n",
       " '1015': {'name': 'Paint', 'pr': 200, 'qn': 100, 'e_dt': 'Jan2021', 'wg': 200},\n",
       " '1016': {'name': 'Brush', 'pr': 50, 'qn': 100, 'e_dt': 'Jan2021', 'wg': 200},\n",
       " '1017': {'name': 'Lock', 'pr': 1500, 'qn': 100, 'e_dt': 'Jan2021', 'wg': 200},\n",
       " '1018': {'name': 'Key', 'pr': 599, 'qn': 10, 'e_dt': 'Jan2021', 'wg': 200},\n",
       " '1019': {'name': 'Cashew', 'pr': 199, 'qn': 10, 'e_dt': 'Jan2021', 'wg': 200},\n",
       " '1020': {'name': 'Nuts', 'pr': 1999, 'qn': 10, 'e_dt': 'Jan2021', 'wg': 200},\n",
       " '1021': {'name': 'Ball ', 'pr': 100, 'qn': 100, 'e_dt': 'Jan2021', 'wg': 200},\n",
       " '1022': {'name': 'Novel', 'pr': 500, 'qn': 100, 'e_dt': 'Jan2021', 'wg': 200},\n",
       " '1023': {'name': 'Sweets', 'pr': 500, 'qn': 50, 'e_dt': 'Jan2021', 'wg': 200},\n",
       " '1024': {'name': 'Deo', 'pr': 200, 'qn': 100, 'e_dt': 'Jan2021', 'wg': 200},\n",
       " '1025': {'name': 'Pin', 'pr': 2000, 'qn': 100, 'e_dt': 'Jan2021', 'wg': 200},\n",
       " '1026': {'name': 'Chair', 'pr': 500, 'qn': 100, 'e_dt': 'Jan2021', 'wg': 200},\n",
       " '1027': {'name': 'Oil', 'pr': 150, 'qn': 100, 'e_dt': 'Jan2021', 'wg': 200},\n",
       " '1028': {'name': 'Basket', 'pr': 99, 'qn': 100, 'e_dt': 'Jan2021', 'wg': 200},\n",
       " '1029': {'name': 'Mask', 'pr': 100, 'qn': 100, 'e_dt': 'Jan2021', 'wg': 200},\n",
       " '1030': {'name': 'Rope', 'pr': 199, 'qn': 90, 'e_dt': 'Jan2021', 'wg': 200},\n",
       " '2032': {'name': 'wer', 'pr': 123, 'qn': 12, 'e_dt': 'Jan2021', 'wg': 200},\n",
       " '1031': {'name': 'Bottle', 'pr': 50, 'qn': 30, 'e_dt': 'Jan2021', 'wg': 200},\n",
       " '1032': {'name': 'egg', 'pr': 50, 'qn': 10, 'e_dt': 'Dec2021', 'wg': '100'}}"
      ]
     },
     "execution_count": 66,
     "metadata": {},
     "output_type": "execute_result"
    }
   ],
   "source": [
    "record"
   ]
  },
  {
   "cell_type": "code",
   "execution_count": 67,
   "id": "4b34f152",
   "metadata": {},
   "outputs": [],
   "source": [
    "del record['2032']"
   ]
  },
  {
   "cell_type": "code",
   "execution_count": 68,
   "id": "6899c6ba",
   "metadata": {},
   "outputs": [
    {
     "data": {
      "text/plain": [
       "{'1001': {'name': 'Cake', 'pr': 200, 'qn': 70, 'e_dt': 'Jan2021', 'wg': 200},\n",
       " '1002': {'name': 'Milk', 'pr': 80, 'qn': 100, 'e_dt': 'Jan2021', 'wg': 500},\n",
       " '1003': {'name': 'Drink', 'pr': 50, 'qn': 100, 'e_dt': 'Jan2021', 'wg': 200},\n",
       " '1004': {'name': 'Candy', 'pr': 20, 'qn': 100, 'e_dt': 'Jan2021', 'wg': 200},\n",
       " '1005': {'name': 'Car', 'pr': 5000, 'qn': 100, 'e_dt': 'Jan2021', 'wg': 200},\n",
       " '1006': {'name': 'Toy', 'pr': 500, 'qn': 100, 'e_dt': 'Jan2021', 'wg': 200},\n",
       " '1007': {'name': 'Mic', 'pr': 1500, 'qn': 50, 'e_dt': 'Jan2021', 'wg': 200},\n",
       " '1008': {'name': 'Case', 'pr': 599, 'qn': 50, 'e_dt': 'Jan2021', 'wg': 200},\n",
       " '1009': {'name': 'board', 'pr': 1999, 'qn': 10, 'e_dt': 'Jan2021', 'wg': 200},\n",
       " '1010': {'name': 'Camera', 'pr': 999, 'qn': 90, 'e_dt': 'Jan2021', 'wg': 200},\n",
       " '1011': {'name': 'Dairy', 'pr': 100, 'qn': 100, 'e_dt': 'Jan2021', 'wg': 200},\n",
       " '1012': {'name': 'Book', 'pr': 100, 'qn': 100, 'e_dt': 'Jan2021', 'wg': 200},\n",
       " '1013': {'name': 'Bag', 'pr': 500, 'qn': 100, 'e_dt': 'Jan2021', 'wg': 200},\n",
       " '1014': {'name': 'Pen', 'pr': 20, 'qn': 100, 'e_dt': 'Jan2021', 'wg': 200},\n",
       " '1015': {'name': 'Paint', 'pr': 200, 'qn': 100, 'e_dt': 'Jan2021', 'wg': 200},\n",
       " '1016': {'name': 'Brush', 'pr': 50, 'qn': 100, 'e_dt': 'Jan2021', 'wg': 200},\n",
       " '1017': {'name': 'Lock', 'pr': 1500, 'qn': 100, 'e_dt': 'Jan2021', 'wg': 200},\n",
       " '1018': {'name': 'Key', 'pr': 599, 'qn': 10, 'e_dt': 'Jan2021', 'wg': 200},\n",
       " '1019': {'name': 'Cashew', 'pr': 199, 'qn': 10, 'e_dt': 'Jan2021', 'wg': 200},\n",
       " '1020': {'name': 'Nuts', 'pr': 1999, 'qn': 10, 'e_dt': 'Jan2021', 'wg': 200},\n",
       " '1021': {'name': 'Ball ', 'pr': 100, 'qn': 100, 'e_dt': 'Jan2021', 'wg': 200},\n",
       " '1022': {'name': 'Novel', 'pr': 500, 'qn': 100, 'e_dt': 'Jan2021', 'wg': 200},\n",
       " '1023': {'name': 'Sweets', 'pr': 500, 'qn': 50, 'e_dt': 'Jan2021', 'wg': 200},\n",
       " '1024': {'name': 'Deo', 'pr': 200, 'qn': 100, 'e_dt': 'Jan2021', 'wg': 200},\n",
       " '1025': {'name': 'Pin', 'pr': 2000, 'qn': 100, 'e_dt': 'Jan2021', 'wg': 200},\n",
       " '1026': {'name': 'Chair', 'pr': 500, 'qn': 100, 'e_dt': 'Jan2021', 'wg': 200},\n",
       " '1027': {'name': 'Oil', 'pr': 150, 'qn': 100, 'e_dt': 'Jan2021', 'wg': 200},\n",
       " '1028': {'name': 'Basket', 'pr': 99, 'qn': 100, 'e_dt': 'Jan2021', 'wg': 200},\n",
       " '1029': {'name': 'Mask', 'pr': 100, 'qn': 100, 'e_dt': 'Jan2021', 'wg': 200},\n",
       " '1030': {'name': 'Rope', 'pr': 199, 'qn': 90, 'e_dt': 'Jan2021', 'wg': 200},\n",
       " '1031': {'name': 'Bottle', 'pr': 50, 'qn': 30, 'e_dt': 'Jan2021', 'wg': 200},\n",
       " '1032': {'name': 'egg', 'pr': 50, 'qn': 10, 'e_dt': 'Dec2021', 'wg': '100'}}"
      ]
     },
     "execution_count": 68,
     "metadata": {},
     "output_type": "execute_result"
    }
   ],
   "source": [
    "record"
   ]
  },
  {
   "cell_type": "code",
   "execution_count": null,
   "id": "f9afeaa6",
   "metadata": {},
   "outputs": [],
   "source": []
  }
 ],
 "metadata": {
  "kernelspec": {
   "display_name": "Python 3",
   "language": "python",
   "name": "python3"
  },
  "language_info": {
   "codemirror_mode": {
    "name": "ipython",
    "version": 3
   },
   "file_extension": ".py",
   "mimetype": "text/x-python",
   "name": "python",
   "nbconvert_exporter": "python",
   "pygments_lexer": "ipython3",
   "version": "3.8.8"
  }
 },
 "nbformat": 4,
 "nbformat_minor": 5
}
