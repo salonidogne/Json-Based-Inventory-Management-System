{
 "cells": [
  {
   "cell_type": "code",
   "execution_count": 46,
   "id": "d334d0fb",
   "metadata": {},
   "outputs": [],
   "source": [
    "import json\n",
    "\n",
    "fd = open(\"data.json\",'r')\n",
    "r = fd.read()\n",
    "fd.close()\n",
    "\n",
    "records = json.loads(r)"
   ]
  },
  {
   "cell_type": "code",
   "execution_count": 47,
   "id": "f2ed9d6b",
   "metadata": {},
   "outputs": [
    {
     "data": {
      "text/plain": [
       "{'1001': {'name': 'Cake', 'pr': 200, 'qn': 70, 'e_dt': 'Jan2021', 'wg': 200},\n",
       " '1002': {'name': 'Milk', 'pr': 80, 'qn': 100, 'e_dt': 'Jan2021', 'wg': 500},\n",
       " '1003': {'name': 'Drink', 'pr': 50, 'qn': 100, 'e_dt': 'Jan2021', 'wg': 200},\n",
       " '1004': {'name': 'Candy', 'pr': 20, 'qn': 100, 'e_dt': 'Jan2021', 'wg': 200},\n",
       " '1005': {'name': 'Car', 'pr': 5000, 'qn': 100, 'e_dt': 'Jan2021', 'wg': 200},\n",
       " '1006': {'name': 'Toy', 'pr': 500, 'qn': 100, 'e_dt': 'Jan2021', 'wg': 200},\n",
       " '1007': {'name': 'Mic', 'pr': 1500, 'qn': 50, 'e_dt': 'Jan2021', 'wg': 200},\n",
       " '1008': {'name': 'Case', 'pr': 599, 'qn': 50, 'e_dt': 'Jan2021', 'wg': 200},\n",
       " '1009': {'name': 'board', 'pr': 1999, 'qn': 10, 'e_dt': 'Jan2021', 'wg': 200},\n",
       " '1010': {'name': 'Camera', 'pr': 999, 'qn': 90, 'e_dt': 'Jan2021', 'wg': 200},\n",
       " '1011': {'name': 'Dairy', 'pr': 100, 'qn': 100, 'e_dt': 'Jan2021', 'wg': 200},\n",
       " '1012': {'name': 'Book', 'pr': 100, 'qn': 100, 'e_dt': 'Jan2021', 'wg': 200},\n",
       " '1013': {'name': 'Bag', 'pr': 500, 'qn': 100, 'e_dt': 'Jan2021', 'wg': 200},\n",
       " '1014': {'name': 'Pen', 'pr': 20, 'qn': 100, 'e_dt': 'Jan2021', 'wg': 200},\n",
       " '1015': {'name': 'Paint', 'pr': 200, 'qn': 100, 'e_dt': 'Jan2021', 'wg': 200},\n",
       " '1016': {'name': 'Brush', 'pr': 50, 'qn': 100, 'e_dt': 'Jan2021', 'wg': 200},\n",
       " '1017': {'name': 'Lock', 'pr': 1500, 'qn': 100, 'e_dt': 'Jan2021', 'wg': 200},\n",
       " '1018': {'name': 'Key', 'pr': 599, 'qn': 10, 'e_dt': 'Jan2021', 'wg': 200},\n",
       " '1019': {'name': 'Cashew', 'pr': 199, 'qn': 10, 'e_dt': 'Jan2021', 'wg': 200},\n",
       " '1020': {'name': 'Nuts', 'pr': 1999, 'qn': 10, 'e_dt': 'Jan2021', 'wg': 200},\n",
       " '1021': {'name': 'Ball ', 'pr': 100, 'qn': 100, 'e_dt': 'Jan2021', 'wg': 200},\n",
       " '1022': {'name': 'Novel', 'pr': 500, 'qn': 100, 'e_dt': 'Jan2021', 'wg': 200},\n",
       " '1023': {'name': 'Sweets', 'pr': 500, 'qn': 50, 'e_dt': 'Jan2021', 'wg': 200},\n",
       " '1024': {'name': 'Deo', 'pr': 200, 'qn': 100, 'e_dt': 'Jan2021', 'wg': 200},\n",
       " '1025': {'name': 'Pin', 'pr': 2000, 'qn': 100, 'e_dt': 'Jan2021', 'wg': 200},\n",
       " '1026': {'name': 'Chair', 'pr': 500, 'qn': 100, 'e_dt': 'Jan2021', 'wg': 200},\n",
       " '1027': {'name': 'Oil', 'pr': 150, 'qn': 100, 'e_dt': 'Jan2021', 'wg': 200},\n",
       " '1028': {'name': 'Basket', 'pr': 99, 'qn': 100, 'e_dt': 'Jan2021', 'wg': 200},\n",
       " '1029': {'name': 'Mask', 'pr': 100, 'qn': 100, 'e_dt': 'Jan2021', 'wg': 200},\n",
       " '1030': {'name': 'Rope', 'pr': 199, 'qn': 90, 'e_dt': 'Jan2021', 'wg': 200},\n",
       " '2032': {'name': 'wer', 'pr': 123, 'qn': 12, 'e_dt': 'Jan2021', 'wg': 200},\n",
       " '1031': {'name': 'Bottle', 'pr': 50, 'qn': 30, 'e_dt': 'Jan2021', 'wg': 200},\n",
       " '1032': {'name': 'egg', 'pr': 50, 'qn': 10, 'e_dt': 'Dec2021', 'wg': '100'}}"
      ]
     },
     "execution_count": 47,
     "metadata": {},
     "output_type": "execute_result"
    }
   ],
   "source": [
    "records"
   ]
  },
  {
   "cell_type": "markdown",
   "id": "bed488c9",
   "metadata": {},
   "source": [
    "# Purchase"
   ]
  },
  {
   "cell_type": "code",
   "execution_count": 127,
   "id": "c1cabc1f",
   "metadata": {},
   "outputs": [
    {
     "name": "stdout",
     "output_type": "stream",
     "text": [
      "Enter the product_Id: 1005\n",
      "Enter the quantity: 5\n",
      "***********************\n",
      "Product:  Car\n",
      "Price:  5000\n",
      "------------------------\n",
      "Billing Amount:  25000\n",
      "***********************\n"
     ]
    }
   ],
   "source": [
    "ui_prod  = str(input(\"Enter the product_Id: \"))\n",
    "ui_quant = int(input(\"Enter the quantity: \"))\n",
    "\n",
    "print(\"***********************\")\n",
    "print(\"Product: \", records[ui_prod]['name'])\n",
    "print(\"Price: \", records[ui_prod]['pr'])\n",
    "print(\"------------------------\")\n",
    "print(\"Billing Amount: \", records[ui_prod]['pr'] * ui_quant)\n",
    "print(\"***********************\")\n",
    "\n",
    "\n",
    "\n",
    "records[ui_prod]['qn'] = records[ui_prod]['qn'] - ui_quant"
   ]
  },
  {
   "cell_type": "markdown",
   "id": "c745afc2",
   "metadata": {},
   "source": [
    "# Updated Inventory After Purchase"
   ]
  },
  {
   "cell_type": "code",
   "execution_count": 128,
   "id": "14c2ceab",
   "metadata": {},
   "outputs": [],
   "source": [
    "js = json.dumps(records)\n",
    "\n",
    "fd = open(\"data.json\",'w')\n",
    "fd.write(js)\n",
    "fd.close()"
   ]
  },
  {
   "cell_type": "code",
   "execution_count": 111,
   "id": "c8bf63b2",
   "metadata": {},
   "outputs": [
    {
     "data": {
      "text/plain": [
       "{'1001': {'name': 'Cake', 'pr': 200, 'qn': 50, 'e_dt': 'Jan2021', 'wg': 200},\n",
       " '1002': {'name': 'Milk', 'pr': 80, 'qn': 90, 'e_dt': 'Jan2021', 'wg': 500},\n",
       " '1003': {'name': 'Drink', 'pr': 50, 'qn': 100, 'e_dt': 'Jan2021', 'wg': 200},\n",
       " '1004': {'name': 'Candy', 'pr': 20, 'qn': 100, 'e_dt': 'Jan2021', 'wg': 200},\n",
       " '1005': {'name': 'Car', 'pr': 5000, 'qn': 100, 'e_dt': 'Jan2021', 'wg': 200},\n",
       " '1006': {'name': 'Toy', 'pr': 500, 'qn': 100, 'e_dt': 'Jan2021', 'wg': 200},\n",
       " '1007': {'name': 'Mic', 'pr': 1500, 'qn': 50, 'e_dt': 'Jan2021', 'wg': 200},\n",
       " '1008': {'name': 'Case', 'pr': 599, 'qn': 50, 'e_dt': 'Jan2021', 'wg': 200},\n",
       " '1009': {'name': 'board', 'pr': 1999, 'qn': 10, 'e_dt': 'Jan2021', 'wg': 200},\n",
       " '1010': {'name': 'Camera', 'pr': 999, 'qn': 80, 'e_dt': 'Jan2021', 'wg': 200},\n",
       " '1011': {'name': 'Dairy', 'pr': 100, 'qn': 100, 'e_dt': 'Jan2021', 'wg': 200},\n",
       " '1012': {'name': 'Book', 'pr': 100, 'qn': 100, 'e_dt': 'Jan2021', 'wg': 200},\n",
       " '1013': {'name': 'Bag', 'pr': 500, 'qn': 100, 'e_dt': 'Jan2021', 'wg': 200},\n",
       " '1014': {'name': 'Pen', 'pr': 20, 'qn': 100, 'e_dt': 'Jan2021', 'wg': 200},\n",
       " '1015': {'name': 'Paint', 'pr': 200, 'qn': 100, 'e_dt': 'Jan2021', 'wg': 200},\n",
       " '1016': {'name': 'Brush', 'pr': 50, 'qn': 100, 'e_dt': 'Jan2021', 'wg': 200},\n",
       " '1017': {'name': 'Lock', 'pr': 1500, 'qn': 100, 'e_dt': 'Jan2021', 'wg': 200},\n",
       " '1018': {'name': 'Key', 'pr': 599, 'qn': 10, 'e_dt': 'Jan2021', 'wg': 200},\n",
       " '1019': {'name': 'Cashew', 'pr': 199, 'qn': 10, 'e_dt': 'Jan2021', 'wg': 200},\n",
       " '1020': {'name': 'Nuts', 'pr': 1999, 'qn': 10, 'e_dt': 'Jan2021', 'wg': 200},\n",
       " '1021': {'name': 'Ball ', 'pr': 100, 'qn': 100, 'e_dt': 'Jan2021', 'wg': 200},\n",
       " '1022': {'name': 'Novel', 'pr': 500, 'qn': 100, 'e_dt': 'Jan2021', 'wg': 200},\n",
       " '1023': {'name': 'Sweets', 'pr': 500, 'qn': 50, 'e_dt': 'Jan2021', 'wg': 200},\n",
       " '1024': {'name': 'Deo', 'pr': 200, 'qn': 100, 'e_dt': 'Jan2021', 'wg': 200},\n",
       " '1025': {'name': 'Pin', 'pr': 2000, 'qn': 100, 'e_dt': 'Jan2021', 'wg': 200},\n",
       " '1026': {'name': 'Chair', 'pr': 500, 'qn': 100, 'e_dt': 'Jan2021', 'wg': 200},\n",
       " '1027': {'name': 'Oil', 'pr': 150, 'qn': 100, 'e_dt': 'Jan2021', 'wg': 200},\n",
       " '1028': {'name': 'Basket', 'pr': 99, 'qn': 100, 'e_dt': 'Jan2021', 'wg': 200},\n",
       " '1029': {'name': 'Mask', 'pr': 100, 'qn': 100, 'e_dt': 'Jan2021', 'wg': 200},\n",
       " '1030': {'name': 'Rope', 'pr': 199, 'qn': 90, 'e_dt': 'Jan2021', 'wg': 200},\n",
       " '2032': {'name': 'wer', 'pr': 123, 'qn': 2, 'e_dt': 'Jan2021', 'wg': 200},\n",
       " '1031': {'name': 'Bottle', 'pr': 50, 'qn': 20, 'e_dt': 'Jan2021', 'wg': 200},\n",
       " '1032': {'name': 'egg', 'pr': 50, 'qn': 5, 'e_dt': 'Dec2021', 'wg': '100'}}"
      ]
     },
     "execution_count": 111,
     "metadata": {},
     "output_type": "execute_result"
    }
   ],
   "source": [
    "records"
   ]
  },
  {
   "cell_type": "markdown",
   "id": "dd466f51",
   "metadata": {},
   "source": [
    "# Sales Json"
   ]
  },
  {
   "cell_type": "code",
   "execution_count": 130,
   "id": "851678db",
   "metadata": {},
   "outputs": [
    {
     "data": {
      "text/plain": [
       "{'1': {'name': 'Choco Cake', 'qn': 2, 'amount': 200, 'pr': 100},\n",
       " '2': {'prod': '1010',\n",
       "  'qn': 10,\n",
       "  'amount': 9990,\n",
       "  'Billing Amount': 9990,\n",
       "  'time': 'Sun Sep  5 22:40:30 2021'}}"
      ]
     },
     "execution_count": 130,
     "metadata": {},
     "output_type": "execute_result"
    }
   ],
   "source": [
    "f = open(\"sales.json\",\"r\")\n",
    "r = f.read()\n",
    "l = json.loads(r)\n",
    "l"
   ]
  },
  {
   "cell_type": "code",
   "execution_count": 131,
   "id": "6600b4a0",
   "metadata": {},
   "outputs": [],
   "source": [
    "import time as t\n",
    "\n",
    "time = t.ctime()\n",
    "l[len(l)+1] = {'prod' : ui_prod, 'qn' : ui_quant, 'amount': records[ui_prod]['pr'] * ui_quant, \"Billing Amount\": records[ui_prod]['pr'] * ui_quant  ,'time': time}\n"
   ]
  },
  {
   "cell_type": "markdown",
   "id": "60ad0fc3",
   "metadata": {},
   "source": [
    "# Updated Sales Json"
   ]
  },
  {
   "cell_type": "code",
   "execution_count": 132,
   "id": "1a38aa93",
   "metadata": {},
   "outputs": [],
   "source": [
    "sale = json.dumps(l)\n",
    "f = open(\"sales.json\",\"w\")\n",
    "f.write(sale)\n",
    "f.close()"
   ]
  },
  {
   "cell_type": "code",
   "execution_count": 133,
   "id": "45120453",
   "metadata": {},
   "outputs": [
    {
     "data": {
      "text/plain": [
       "'{\"1\": {\"name\": \"Choco Cake\", \"qn\": 2, \"amount\": 200, \"pr\": 100}, \"2\": {\"prod\": \"1010\", \"qn\": 10, \"amount\": 9990, \"Billing Amount\": 9990, \"time\": \"Sun Sep  5 22:40:30 2021\"}, \"3\": {\"prod\": \"1005\", \"qn\": 5, \"amount\": 25000, \"Billing Amount\": 25000, \"time\": \"Sun Sep  5 22:42:40 2021\"}}'"
      ]
     },
     "execution_count": 133,
     "metadata": {},
     "output_type": "execute_result"
    }
   ],
   "source": [
    "sale"
   ]
  },
  {
   "cell_type": "code",
   "execution_count": null,
   "id": "9f25f890",
   "metadata": {},
   "outputs": [],
   "source": []
  }
 ],
 "metadata": {
  "kernelspec": {
   "display_name": "Python 3",
   "language": "python",
   "name": "python3"
  },
  "language_info": {
   "codemirror_mode": {
    "name": "ipython",
    "version": 3
   },
   "file_extension": ".py",
   "mimetype": "text/x-python",
   "name": "python",
   "nbconvert_exporter": "python",
   "pygments_lexer": "ipython3",
   "version": "3.8.8"
  }
 },
 "nbformat": 4,
 "nbformat_minor": 5
}
